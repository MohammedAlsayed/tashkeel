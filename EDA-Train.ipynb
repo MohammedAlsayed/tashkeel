{
 "cells": [
  {
   "cell_type": "code",
   "execution_count": 2,
   "id": "0c8cde40",
   "metadata": {},
   "outputs": [],
   "source": [
    "%load_ext autoreload\n",
    "%autoreload 2\n",
    "import sys\n",
    "sys.path.append(\"./\")\n",
    "from collections import Counter\n",
    "from utils import *\n",
    "import pandas as pd\n",
    "import torch \n",
    "import numpy as np\n",
    "from tqdm import tqdm\n",
    "import math"
   ]
  },
  {
   "cell_type": "markdown",
   "id": "a3f1f515",
   "metadata": {},
   "source": [
    "# Read Files"
   ]
  },
  {
   "cell_type": "code",
   "execution_count": 3,
   "id": "db5867aa",
   "metadata": {},
   "outputs": [],
   "source": [
    "files = get_file_list('tashkeel-data/texts.txt/')"
   ]
  },
  {
   "cell_type": "code",
   "execution_count": 4,
   "id": "065b3fa5",
   "metadata": {},
   "outputs": [
    {
     "name": "stdout",
     "output_type": "stream",
     "text": [
      "folder names: \n"
     ]
    },
    {
     "data": {
      "text/plain": [
       "['tashkeel-data/texts.txt/',\n",
       " 'tashkeel-data/texts.txt/msa',\n",
       " 'tashkeel-data/texts.txt/msa/كتب حديثة',\n",
       " 'tashkeel-data/texts.txt/msa/sulaity',\n",
       " 'tashkeel-data/texts.txt/msa/aljazeera',\n",
       " 'tashkeel-data/texts.txt/msa/al-kalema.org',\n",
       " 'tashkeel-data/texts.txt/msa/manual',\n",
       " 'tashkeel-data/texts.txt/msa/منوع',\n",
       " 'tashkeel-data/texts.txt/msa/enfal.de']"
      ]
     },
     "execution_count": 4,
     "metadata": {},
     "output_type": "execute_result"
    }
   ],
   "source": [
    "keys = list(files.keys())\n",
    "print(\"folder names: \")\n",
    "keys"
   ]
  },
  {
   "cell_type": "markdown",
   "id": "b18400de",
   "metadata": {},
   "source": [
    "# EDA"
   ]
  },
  {
   "cell_type": "markdown",
   "id": "8a93ad61",
   "metadata": {},
   "source": [
    "## Word Level EDA"
   ]
  },
  {
   "cell_type": "code",
   "execution_count": 5,
   "id": "ba699860",
   "metadata": {},
   "outputs": [],
   "source": [
    "original_words = Counter()\n",
    "for i in range(len(files[keys[0]])):\n",
    "    with open(files[keys[0]][i], 'r') as f:\n",
    "        lines = f.readlines()\n",
    "        for line in lines:\n",
    "            words = line.strip().split()\n",
    "            original_words.update(words)"
   ]
  },
  {
   "cell_type": "code",
   "execution_count": 144,
   "id": "56c97e1a",
   "metadata": {},
   "outputs": [
    {
     "name": "stdout",
     "output_type": "stream",
     "text": [
      "Total words: 74761989\n",
      "Arabic words: 87.79097089030095%\n",
      "Diacritics in AR words: 98.20337014154006%\n",
      "No diacritics in AR words: 1.7966298584599303$\n",
      "Non Arabic words: 0.12209029109699047\n"
     ]
    }
   ],
   "source": [
    "get_word_statistics(original_words)"
   ]
  },
  {
   "cell_type": "code",
   "execution_count": 204,
   "id": "e118893b",
   "metadata": {},
   "outputs": [
    {
     "name": "stdout",
     "output_type": "stream",
     "text": [
      "Most common words distribution:\n",
      "، -> 2.8160005213\n",
      "فِي -> 2.3802630505\n",
      ") -> 1.7010194846\n",
      "( -> 1.6850795663\n",
      ": -> 1.6104761472\n",
      "مِنْ -> 1.4554120544\n",
      ". -> 1.3523743998\n",
      "عَلَى -> 1.1971711989\n",
      "لَا -> 1.0578182985\n",
      "أَوْ -> 0.9628716539\n",
      "قَالَ -> 0.8065930402\n",
      "عَنْ -> 0.7869386675\n",
      "مَا -> 0.7396940710\n",
      "عَلَيْهِ -> 0.6372449508\n",
      "قَوْلُهُ -> 0.6335024072\n",
      "أَيْ -> 0.5682433088\n",
      "أَنْ -> 0.5559910933\n",
      "كَانَ -> 0.5442966479\n",
      "لَمْ -> 0.5311148156\n",
      "أَنَّ -> 0.4833860159\n"
     ]
    }
   ],
   "source": [
    "print(\"Most common words distribution:\")\n",
    "total = sum(original_words.values())\n",
    "for k, v in original_words.most_common(20):\n",
    "    print(f\"{k} -> {(v/total)*100:.10f}\")"
   ]
  },
  {
   "cell_type": "code",
   "execution_count": 146,
   "id": "c2642688",
   "metadata": {},
   "outputs": [
    {
     "name": "stdout",
     "output_type": "stream",
     "text": [
      "Least common words:\n"
     ]
    },
    {
     "data": {
      "text/plain": [
       "[('فَهَلْ(13/84)', 1),\n",
       " ('الْمُسَرَّجَةِ', 1),\n",
       " ('مَسْطُورَةً(13/90)', 1),\n",
       " ('وَكَالْمِائَةِ', 1),\n",
       " ('وَقِرَابٍ', 1),\n",
       " ('وَبِتَعْدَادِ', 1),\n",
       " ('وَلْيُصَحِّحْهُ', 1),\n",
       " ('{(13/95)', 1),\n",
       " ('](13/97)', 1),\n",
       " ('أَجْمَعِينَ(13/98)', 1)]"
      ]
     },
     "execution_count": 146,
     "metadata": {},
     "output_type": "execute_result"
    }
   ],
   "source": [
    "print(\"Least common words:\")\n",
    "original_words.most_common()[-10:]"
   ]
  },
  {
   "cell_type": "code",
   "execution_count": 147,
   "id": "deabdc0b",
   "metadata": {},
   "outputs": [],
   "source": [
    "characters = Counter()\n",
    "for word in original_words:\n",
    "    for char in word:\n",
    "        characters.update(char)"
   ]
  },
  {
   "cell_type": "code",
   "execution_count": 199,
   "id": "d164f930",
   "metadata": {},
   "outputs": [
    {
     "name": "stdout",
     "output_type": "stream",
     "text": [
      "# non_arabic_characters: 116\n",
      "sample of non arabic characters:  [':', 'h', 't', 'p', '/', 'w', '.', 'a', 'l', '-']\n"
     ]
    }
   ],
   "source": [
    "non_arabic_characters = [c for c in characters if not is_arabic_char(c) and not is_harakah(c)]\n",
    "print(f\"# non_arabic_characters: {len(non_arabic_characters)}\")\n",
    "print(\"sample of non arabic characters: \",non_arabic_characters[:10])"
   ]
  },
  {
   "cell_type": "code",
   "execution_count": 200,
   "id": "31c580b5",
   "metadata": {},
   "outputs": [
    {
     "name": "stdout",
     "output_type": "stream",
     "text": [
      "# non arabic words: 472784\n",
      "sample of non arabic words:  [':', 'http://www.al-islam.com', '[', ']', '.', '(1/1)', '،', '(', ')', 'بِالْكُتُبِ(1/2)']\n"
     ]
    }
   ],
   "source": [
    "# non arabic words\n",
    "non_arabic_words = [w for w in original_words if not is_arabic_word(w)]\n",
    "print(f\"# non arabic words: {len(non_arabic_words)}\")\n",
    "print(\"sample of non arabic words: \",non_arabic_words[:10])"
   ]
  },
  {
   "cell_type": "code",
   "execution_count": 6,
   "id": "3691854e",
   "metadata": {},
   "outputs": [
    {
     "name": "stdout",
     "output_type": "stream",
     "text": [
      "statistics after removing non arabic characters:\n",
      "Total words: 66471156\n",
      "Arabic words: 99.9983060321683%\n",
      "Diacritics in AR words: 98.05408091436095%\n",
      "No diacritics in AR words: 1.9459190856390467$\n",
      "Non Arabic words: 1.6939678317013173e-05\n"
     ]
    }
   ],
   "source": [
    "sanitazied_words = Counter() # all arabic words\n",
    "for word in original_words:\n",
    "    valid_word = clean_words([word]) # remove non arabic characters\n",
    "    if valid_word:\n",
    "        sanitazied_words[valid_word[0]] += original_words[word]\n",
    "\n",
    "print(\"statistics after removing non arabic characters:\")  \n",
    "get_word_statistics(sanitazied_words)"
   ]
  },
  {
   "cell_type": "code",
   "execution_count": 11,
   "id": "e1e1e4ae",
   "metadata": {},
   "outputs": [
    {
     "name": "stdout",
     "output_type": "stream",
     "text": [
      "Most common words distribution after cleaning from non-arabic characters:\n",
      "فِي -> %2.6846035294\n",
      "مِنْ -> %1.6413811127\n",
      "عَلَى -> %1.3499810354\n",
      "لَا -> %1.1932228168\n",
      "أَوْ -> %1.0856242669\n",
      "قَالَ -> %0.9656489200\n",
      "عَنْ -> %0.8870012732\n",
      "مَا -> %0.8340926100\n",
      "عَلَيْهِ -> %0.7217852507\n",
      "قَوْلُهُ -> %0.7170583885\n",
      "أَيْ -> %0.6410058522\n",
      "أَنْ -> %0.6268222566\n",
      "كَانَ -> %0.6140904184\n",
      "لَمْ -> %0.5987815226\n",
      "أَنَّ -> %0.5454681727\n",
      "لَهُ -> %0.5339684479\n",
      "ذَلِكَ -> %0.5200406023\n",
      "إذَا -> %0.4836353380\n",
      "وَلَا -> %0.4784661786\n",
      "بِهِ -> %0.4705710248\n"
     ]
    }
   ],
   "source": [
    "print(\"Most common words distribution after cleaning from non-arabic characters:\")\n",
    "total = sum(sanitazied_words.values())\n",
    "for k, v in sanitazied_words.most_common(20):\n",
    "    print(f\"{k} -> %{(v/total)*100:.10f}\")"
   ]
  },
  {
   "cell_type": "code",
   "execution_count": 152,
   "id": "840649fe",
   "metadata": {
    "scrolled": true
   },
   "outputs": [
    {
     "name": "stdout",
     "output_type": "stream",
     "text": [
      "# non disacritized words: 46422\n"
     ]
    },
    {
     "data": {
      "text/plain": [
       "['تم',\n",
       " 'إعداد',\n",
       " 'هذا',\n",
       " 'الملف',\n",
       " 'آليا',\n",
       " 'بواسطة',\n",
       " 'المكتبة',\n",
       " 'الشاملة',\n",
       " 'الكتاب',\n",
       " 'الفواكه']"
      ]
     },
     "execution_count": 152,
     "metadata": {},
     "output_type": "execute_result"
    }
   ],
   "source": [
    "non_diac_words = [w for w in sanitazied_words if not has_any_diacritics(w)]\n",
    "print(f\"# non disacritized words: {len(non_diac_words)}\")\n",
    "non_diac_words[:10]"
   ]
  },
  {
   "cell_type": "code",
   "execution_count": 167,
   "id": "90d64abc",
   "metadata": {},
   "outputs": [],
   "source": [
    "# harakat distribution\n",
    "harakat = Counter()\n",
    "for word in sanitazied_words:\n",
    "    for char in word:\n",
    "        if is_harakah(char) or is_shaddah(char):\n",
    "            h_name = get_name(char)\n",
    "            harakat.update([h_name])\n"
   ]
  },
  {
   "cell_type": "code",
   "execution_count": 192,
   "id": "aaa73b93",
   "metadata": {},
   "outputs": [
    {
     "name": "stdout",
     "output_type": "stream",
     "text": [
      "harakat distribution: \n",
      "fatha: 0.43%\n",
      "kasra: 0.18%\n",
      "sukun: 0.15%\n",
      "damma: 0.14%\n",
      "shadda: 0.06%\n",
      "tanween kasra: 0.01%\n",
      "tanween damma: 0.01%\n",
      "tanween fatha: 0.01%\n"
     ]
    }
   ],
   "source": [
    "print(\"harakat distribution: \")\n",
    "total = sum(harakat.values())\n",
    "for k, v in harakat.most_common(10):\n",
    "    print(f\"{k}: {v/total:.2f}%\")"
   ]
  },
  {
   "cell_type": "markdown",
   "id": "cc292a07",
   "metadata": {},
   "source": [
    "## Sentence Level EDA"
   ]
  },
  {
   "cell_type": "code",
   "execution_count": null,
   "id": "a267141a",
   "metadata": {},
   "outputs": [],
   "source": [
    "all_sentences = []\n",
    "filename = []\n",
    "for i in range(len(files[keys[0]])):\n",
    "    with open(files[keys[0]][i], 'r') as f:\n",
    "        lines = f.readlines()\n",
    "        file = files[keys[0]][i].split('/')[-1]\n",
    "        for line in lines:\n",
    "            sentences = line.strip().split('.')\n",
    "            filename += [file]*len(sentences)\n",
    "            all_sentences += sentences\n",
    "\n",
    "df = pd.DataFrame({'filename': filename, 'sentence': all_sentences})"
   ]
  },
  {
   "cell_type": "code",
   "execution_count": null,
   "id": "29ac1fad",
   "metadata": {},
   "outputs": [
    {
     "name": "stdout",
     "output_type": "stream",
     "text": [
      "max_length: 1613, min_length: 0, mean_length: 24.218289044876695\n"
     ]
    }
   ],
   "source": [
    "import math\n",
    "\n",
    "max_length = 0\n",
    "min_length = math.inf\n",
    "mean_length = 0\n",
    "\n",
    "for sentence in all_sentences:\n",
    "    words = sentence.strip().split()\n",
    "    max_length = max(max_length, len(words))\n",
    "    min_length = min(min_length, len(words))\n",
    "    mean_length += len(words)\n",
    "\n",
    "mean_length /= len(all_sentences)\n",
    "\n",
    "print(f\"max_length: {max_length}, min_length: {min_length}, mean_length: {mean_length}\")"
   ]
  },
  {
   "cell_type": "markdown",
   "id": "1157f12d",
   "metadata": {},
   "source": [
    "# Data Preprocessing"
   ]
  },
  {
   "cell_type": "code",
   "execution_count": 5,
   "id": "d5a5aeba",
   "metadata": {},
   "outputs": [],
   "source": [
    "from langchain.docstore.document import Document\n",
    "from langchain.text_splitter import RecursiveCharacterTextSplitter\n",
    "\n",
    "# read files into Document objects\n",
    "docs = []\n",
    "# for i in range(len(files[keys[0]])):\n",
    "for i in range(8): # reading a sample because of limited computational resources\n",
    "    with open(files[keys[0]][i], 'r') as f:\n",
    "        lines = f.readlines()\n",
    "        lines = ' '.join(lines)\n",
    "        file = files[keys[0]][i].split('/')[-1]\n",
    "        metadata = {\"source\": file}\n",
    "        doc = Document(page_content=lines, metadata=metadata)\n",
    "        docs.append(doc)"
   ]
  },
  {
   "cell_type": "markdown",
   "id": "dc30154e",
   "metadata": {},
   "source": [
    "## Splitting"
   ]
  },
  {
   "cell_type": "code",
   "execution_count": 67,
   "id": "e5800b8e",
   "metadata": {},
   "outputs": [],
   "source": [
    "train_len = math.ceil(len(docs)*0.8)\n",
    "valid_len = math.floor(len(docs)*0.1)\n",
    "test_len = math.ceil(len(docs)*0.1)\n",
    "\n",
    "# Calculates the length of words in a text (tokens)\n",
    "def custom_length(text: list[str]) -> int:\n",
    "    return len(text.split())\n",
    "\n",
    "# Split the documents into chunks of words\n",
    "splitter = RecursiveCharacterTextSplitter(chunk_size=4,\n",
    "            chunk_overlap=0,\n",
    "            length_function=custom_length,\n",
    "            separators=[\"\\n\\n\", \"\\n\", \".\", \" \"])\n",
    "\n",
    "splitted_docs = splitter.split_documents(docs)\n"
   ]
  },
  {
   "cell_type": "code",
   "execution_count": 71,
   "id": "f6b1f03b",
   "metadata": {},
   "outputs": [
    {
     "name": "stderr",
     "output_type": "stream",
     "text": [
      "100%|██████████| 1602433/1602433 [00:12<00:00, 128163.73it/s]\n"
     ]
    },
    {
     "name": "stdout",
     "output_type": "stream",
     "text": [
      "training_docs: 1023506, validation_docs: 127938, testing_docs: 127938\n"
     ]
    }
   ],
   "source": [
    "from train import *\n",
    "\n",
    "splitted_docs = clean_data(splitted_docs)\n",
    "\n",
    "train_len = math.ceil(len(splitted_docs)*0.8) # 80% training\n",
    "valid_len = math.floor(len(splitted_docs)*0.1) # 10% validation\n",
    "test_len = math.ceil(len(splitted_docs)*0.1) # 10% testing\n",
    "\n",
    "training_docs = splitted_docs[:train_len]\n",
    "validation_docs = splitted_docs[train_len:train_len+valid_len]\n",
    "testing_docs = splitted_docs[train_len+valid_len:]\n",
    "\n",
    "print(f\"training_docs: {len(training_docs)}, validation_docs: {len(validation_docs)}, testing_docs: {len(testing_docs)}\")"
   ]
  },
  {
   "cell_type": "markdown",
   "id": "e17dce77",
   "metadata": {},
   "source": [
    "## Tokenization"
   ]
  },
  {
   "cell_type": "code",
   "execution_count": 72,
   "id": "b309e307",
   "metadata": {},
   "outputs": [
    {
     "name": "stderr",
     "output_type": "stream",
     "text": [
      "100%|██████████| 1023506/1023506 [00:09<00:00, 112201.82it/s]\n"
     ]
    }
   ],
   "source": [
    "from tokenizer import Tokenizer\n",
    "\n",
    "tokenizer = Tokenizer(character_level=True)\n",
    "tokenizer.build_tokenizer_table(training_docs)"
   ]
  },
  {
   "cell_type": "code",
   "execution_count": 210,
   "id": "0167197a",
   "metadata": {},
   "outputs": [
    {
     "name": "stdout",
     "output_type": "stream",
     "text": [
      "Testing Tokenizer:\n",
      "original:  الْبَرَكَةَ وَيُعْدِمُ تَمَامُهُ\n",
      "input:  البركة ويعدم تمامه\n",
      "target:  <UNK> ْ َ َ َ َ <PAD> َ ُ ْ ِ ُ <PAD> َ َ <UNK> ُ ُ\n",
      "output:  الْبَرَكَةَ وَيُعْدِمُ تَمَامُهُ\n",
      "original == output:  True\n"
     ]
    }
   ],
   "source": [
    "# testing tokenizer encoder and decoder functions and shakkel function\n",
    "\n",
    "# random pairs from the validation set\n",
    "tt = training_docs[205].page_content\n",
    "print(\"Testing Tokenizer:\")\n",
    "input, target = tokenizer.get_pair(tt, encoded=False)\n",
    "print(\"original: \",tt)\n",
    "print(\"input: \",input)\n",
    "print(\"target: \",target)\n",
    "print(\"output: \",shakkel(input, target))\n",
    "print(\"original == output: \",tt == shakkel(input, target))"
   ]
  },
  {
   "cell_type": "code",
   "execution_count": 211,
   "id": "7f89fdfe",
   "metadata": {},
   "outputs": [
    {
     "name": "stdout",
     "output_type": "stream",
     "text": [
      "Testing Tokenizer with encoding:\n",
      "input:  [1, 19, 48, 20, 29, 47, 21, 0, 52, 54, 37, 27, 49, 0, 22, 49, 19, 49, 51, 2]\n",
      "target:  [1, 3, 11, 4, 4, 4, 4, 0, 4, 5, 11, 6, 5, 0, 4, 4, 3, 5, 5, 2]\n",
      "output:  الْبَرَكَةَ وَيُعْدِمُ تَمَامُهُ\n",
      "original == output:  True\n"
     ]
    }
   ],
   "source": [
    "# testing get_pair function with encoded=True and then decoding the output and diacritizing it\n",
    "print(\"Testing Tokenizer with encoding:\")\n",
    "input_ids, target_ids = tokenizer.get_pair(tt, encoded=True)\n",
    "print(\"input: \",input_ids)\n",
    "print(\"target: \",target_ids)\n",
    "text = tokenizer.decode(input_ids)\n",
    "harkat = tokenizer.decode(target_ids, is_harakat=True)\n",
    "print(\"output: \",shakkel(text, harkat))\n",
    "print(\"original == output: \",tt == shakkel(text, harkat))"
   ]
  },
  {
   "cell_type": "markdown",
   "id": "0fb67e7e",
   "metadata": {},
   "source": [
    "# Training"
   ]
  },
  {
   "cell_type": "markdown",
   "id": "e08ceed2",
   "metadata": {},
   "source": [
    "## Data Preparation"
   ]
  },
  {
   "cell_type": "code",
   "execution_count": 75,
   "id": "a18e9bbc",
   "metadata": {},
   "outputs": [
    {
     "name": "stderr",
     "output_type": "stream",
     "text": [
      "100%|██████████| 20000/20000 [00:00<00:00, 46412.85it/s]\n",
      "100%|██████████| 10000/10000 [00:00<00:00, 50986.58it/s]"
     ]
    },
    {
     "name": "stdout",
     "output_type": "stream",
     "text": [
      "input token length: 40, target output length: 43, average input length: 20, average target length: 21\n"
     ]
    },
    {
     "name": "stderr",
     "output_type": "stream",
     "text": [
      "\n"
     ]
    }
   ],
   "source": [
    "train_pairs, max_input, max_target, avg_input, avg_target = prepare_data(training_docs[:20000], tokenizer)\n",
    "\n",
    "avg_target = int(math.ceil(avg_target))\n",
    "avg_input = int(math.ceil(avg_input))\n",
    "\n",
    "validate_pairs, _, _, _, _ = prepare_data(validation_docs[:10000], tokenizer)\n",
    "\n",
    "print(f\"input token length: {max_input}, target output length: {max_target}, average input length: {avg_input}, average target length: {avg_target}\")"
   ]
  },
  {
   "cell_type": "markdown",
   "id": "97d8935a",
   "metadata": {},
   "source": [
    "## Data Loading"
   ]
  },
  {
   "cell_type": "code",
   "execution_count": 76,
   "id": "b041a89a",
   "metadata": {},
   "outputs": [
    {
     "name": "stderr",
     "output_type": "stream",
     "text": [
      "20000it [00:00, 673194.39it/s]\n",
      "10000it [00:00, 544962.52it/s]\n"
     ]
    }
   ],
   "source": [
    "device = torch.device(\"cpu\")\n",
    "\n",
    "train_dataloader = get_dataloader(train_pairs, max_input, max_target, 32, device)\n",
    "validate_dataloader = get_dataloader(validate_pairs, max_input, max_target, 32, device)"
   ]
  },
  {
   "cell_type": "code",
   "execution_count": 77,
   "id": "6ee6c8bb",
   "metadata": {},
   "outputs": [
    {
     "name": "stdout",
     "output_type": "stream",
     "text": [
      "time (time left): 2m 45s (- 13m 46s)\n",
      "epoch:5/30\n",
      "train loss:  0.722, validate loss: 0.581\n",
      "time (time left): 5m 31s (- 11m 2s)\n",
      "epoch:10/30\n",
      "train loss:  0.517, validate loss: 0.499\n",
      "time (time left): 8m 18s (- 8m 18s)\n",
      "epoch:15/30\n",
      "train loss:  0.439, validate loss: 0.459\n",
      "time (time left): 11m 4s (- 5m 32s)\n",
      "epoch:20/30\n",
      "train loss:  0.391, validate loss: 0.439\n",
      "time (time left): 13m 51s (- 2m 46s)\n",
      "epoch:25/30\n",
      "train loss:  0.356, validate loss: 0.424\n",
      "time (time left): 16m 41s (- 0m 0s)\n",
      "epoch:30/30\n",
      "train loss:  0.333, validate loss: 0.410\n"
     ]
    }
   ],
   "source": [
    "from model import EncoderRNN, DecoderRNN\n",
    "from train import main\n",
    "from tokenizer import SOS_TOKEN\n",
    "\n",
    "params = {\n",
    "    'input_size': tokenizer.n_tokens, # num of (character or word) tokens\n",
    "    'embedding_size': 128, # size of embedding\n",
    "    'hidden_size': 64, # size of embedding\n",
    "    'output_size': tokenizer.output_size, # harakat size\n",
    "    'enc_n_layers': 2, # num of layers in the encoder\n",
    "    'dec_n_layers': 1, # num of layers in the decoder\n",
    "    'dropout': 0.1,\n",
    "    'max_length': max_target,  # max length of output sequence (harakat sequence)\n",
    "    'device': device,\n",
    "    'SOS_TOKEN': SOS_TOKEN, # first input to the decoder\n",
    "    'max_input': max_input, # for inference use\n",
    "}\n",
    "\n",
    "encoder = EncoderRNN(params).to(device)\n",
    "decoder = DecoderRNN(params).to(device)\n",
    "\n",
    "main(train_dataloader, validate_dataloader, encoder, decoder, 30, print_every=5)"
   ]
  },
  {
   "cell_type": "code",
   "execution_count": 114,
   "id": "673dfe21",
   "metadata": {},
   "outputs": [],
   "source": [
    "# save the model\n",
    "torch.save(encoder.state_dict(), 'pickels/encoder.pth')\n",
    "torch.save(decoder.state_dict(), 'pickels/decoder.pth')\n",
    "\n",
    "tokenizer.save(\"pickels/tokenizer.pkl\")\n",
    "# dump the params\n",
    "import json\n",
    "with open('pickels/params.json', 'w') as f:\n",
    "    if 'device' in params:\n",
    "        params.pop('device')\n",
    "    json.dump(params, f)\n",
    "params['device'] = device"
   ]
  },
  {
   "cell_type": "markdown",
   "id": "5b95c7c7",
   "metadata": {},
   "source": [
    "# Inference"
   ]
  },
  {
   "cell_type": "code",
   "execution_count": 102,
   "id": "6141ced6",
   "metadata": {},
   "outputs": [
    {
     "name": "stderr",
     "output_type": "stream",
     "text": [
      "100%|██████████| 10000/10000 [00:00<00:00, 44145.64it/s]\n",
      "10000it [00:00, 735675.02it/s]\n"
     ]
    },
    {
     "name": "stdout",
     "output_type": "stream",
     "text": [
      "accuracy: 0.8767116279069768\n"
     ]
    }
   ],
   "source": [
    "# run the model on the test set\n",
    "from train import test_result\n",
    "test_pairs, _, _,_,_ = prepare_data(testing_docs[:10000], tokenizer)\n",
    "test_dataloader = get_dataloader(test_pairs, max_input, max_target, 32, device)\n",
    "equal_list, y_true, y_pred = test_result(test_dataloader, encoder, decoder)"
   ]
  },
  {
   "cell_type": "code",
   "execution_count": 215,
   "id": "cc672ef1",
   "metadata": {},
   "outputs": [
    {
     "name": "stdout",
     "output_type": "stream",
     "text": [
      "Exploring correct predictions for sentences with more than 3 words:\n",
      "original:  مِنْ الطَّعَامِ مِنْ قَوْلِهِ\n",
      "prediction:  مِنْ الطَّعَامِ مِنْ قَوْلِهِ\n",
      "\n",
      "original:  لِأَنَّهُ وَقَعَ فِي كَلَامِ\n",
      "prediction:  لِأَنَّهُ وَقَعَ فِي كَلَامِ\n",
      "\n",
      "original:  رَوَاهُ أَحْمَدُ عَنْ الشَّافِعِيِّ\n",
      "prediction:  رَوَاهُ أَحْمَدُ عَنْ الشَّافِعِيِّ\n",
      "\n",
      "original:  إنَّ ذَا الْفَقَارِ كَانَ\n",
      "prediction:  إنَّ ذَا الْفَقَارِ كَانَ\n",
      "\n",
      "original:  هُوَ أَضْعَفُ مِنْ حَدِيثِ\n",
      "prediction:  هُوَ أَضْعَفُ مِنْ حَدِيثِ\n",
      "\n",
      "original:  وَفِي الْبَابِ عَنْ يَعْلَى\n",
      "prediction:  وَفِي الْبَابِ عَنْ يَعْلَى\n",
      "\n"
     ]
    }
   ],
   "source": [
    "# explore correct predictions\n",
    "print(\"Exploring correct predictions for sentences with more than 3 words:\")\n",
    "counter = 0\n",
    "for input_tensor, output_tensor, target_tensor in equal_list:\n",
    "    input = input_tensor[input_tensor != 1]\n",
    "    input = input[input != 2]\n",
    "    text = tokenizer.decode(input.tolist()).strip()\n",
    "    if counter > 5:\n",
    "        break\n",
    "    if len(text.split()) > 3:\n",
    "        counter += 1\n",
    "\n",
    "        target_tensor = target_tensor[target_tensor != 1]\n",
    "        target_tensor = target_tensor[target_tensor != 2]\n",
    "        target = tokenizer.decode(target_tensor.tolist(), is_harakat=True).strip()\n",
    "\n",
    "        print(\"original: \", shakkel(text, target))\n",
    "\n",
    "        output_tensor = output_tensor[output_tensor != 1]\n",
    "        output_tensor = output_tensor[output_tensor != 2]\n",
    "        harakat = tokenizer.decode(output_tensor.tolist(), is_harakat=True).strip()\n",
    "\n",
    "        print(\"prediction: \", shakkel(text, harakat))\n",
    "        print(\"\")"
   ]
  },
  {
   "cell_type": "code",
   "execution_count": 101,
   "id": "2a289398",
   "metadata": {},
   "outputs": [
    {
     "name": "stdout",
     "output_type": "stream",
     "text": [
      "Model Tashkeel:  إذْ لَا مَجَالَ لِلِاجْتِهَادِ\n",
      "original:  إذ لا مجال للاجتهاد\n",
      "output == original:  False\n"
     ]
    }
   ],
   "source": [
    "from train import inference\n",
    "from tokenizer import SOS_TOKEN, EOS_TOKEN\n",
    "\n",
    "# Testing my own sentences\n",
    "\n",
    "input_text =  \"إذ لا مجال للاجتهاد\"\n",
    "input_encoded = tokenizer.encode(input_text)\n",
    "\n",
    "input_ids = np.zeros((1, max_input), dtype=np.int32)\n",
    "if len(input_encoded) > max_input:\n",
    "    input_ids[0, :max_input] = input_encoded\n",
    "    print(\"input longer than max_input, will be truncated\")\n",
    "else:\n",
    "    input_ids[0, :len(input_encoded)] = input_encoded\n",
    "input_tensor = torch.LongTensor(input_ids).reshape(1, -1).to(device) # to make batch first\n",
    "\n",
    "output = inference(encoder, decoder, input_tensor)\n",
    "\n",
    "for out in output:\n",
    "    # slice tensor from SOS to EOS token\n",
    "    # print(\"output: \", out)\n",
    "    out = out[out != SOS_TOKEN]\n",
    "    out = out[out != EOS_TOKEN]\n",
    "    harakat = tokenizer.decode(out.tolist(), is_harakat=True)\n",
    "    shakkelled = shakkel(input_text, harakat)\n",
    "    print(\"Model Tashkeel: \", shakkelled)\n",
    "    print(\"original: \", input_text)\n",
    "    print(\"output == original: \", shakkelled == input_text)\n"
   ]
  },
  {
   "cell_type": "markdown",
   "id": "8b5f8fba",
   "metadata": {},
   "source": [
    "# Analysis"
   ]
  },
  {
   "cell_type": "code",
   "execution_count": 173,
   "id": "737e9388",
   "metadata": {},
   "outputs": [
    {
     "name": "stdout",
     "output_type": "stream",
     "text": [
      "               precision    recall  f1-score   support\n",
      "\n",
      "        <PAD>       0.98      0.99      0.99    268900\n",
      "        <SOS>       1.00      1.00      1.00     10000\n",
      "        <EOS>       0.78      0.80      0.79     10000\n",
      "        <UNK>       0.79      0.83      0.81     26797\n",
      "        fatha       0.67      0.76      0.71     51433\n",
      "        damma       0.55      0.25      0.34     12906\n",
      "        kasra       0.52      0.53      0.53     20848\n",
      "tanween fatha       0.65      0.32      0.43       904\n",
      "tanween damma       0.17      0.10      0.12       839\n",
      "tanween kasra       0.33      0.17      0.22      1910\n",
      "       shadda       0.71      0.59      0.65      8001\n",
      "        sukun       0.68      0.69      0.69     17462\n",
      "\n",
      "     accuracy                           0.88    430000\n",
      "    macro avg       0.65      0.59      0.61    430000\n",
      " weighted avg       0.87      0.88      0.87    430000\n",
      "\n"
     ]
    },
    {
     "data": {
      "image/png": "[encoded data removed]",
      "text/plain": [
       "<Figure size 1000x1000 with 2 Axes>"
      ]
     },
     "metadata": {},
     "output_type": "display_data"
    }
   ],
   "source": [
    "from sklearn.metrics import classification_report\n",
    "from sklearn.metrics import confusion_matrix, ConfusionMatrixDisplay\n",
    "import matplotlib.pyplot as plt\n",
    "    \n",
    "# iterate over the first 12 keys in the tokenizer table to get the labels\n",
    "labels = [get_name(k) for k in list(tokenizer.token2index.keys())[:12]]\n",
    "print(classification_report(y_true, y_pred,  target_names=labels))\n",
    "\n",
    "# confusion matrix\n",
    "cm = confusion_matrix(y_true, y_pred, normalize='pred')\n",
    "# dimension of the plot\n",
    "fig, ax = plt.subplots(figsize=(10, 10))\n",
    "disp = ConfusionMatrixDisplay(confusion_matrix=cm, display_labels=labels)\n",
    "disp.plot(ax=ax, xticks_rotation='vertical')\n",
    "plt.show()"
   ]
  }
 ],
 "metadata": {
  "kernelspec": {
   "display_name": "Python 3 (ipykernel)",
   "language": "python",
   "name": "python3"
  },
  "language_info": {
   "codemirror_mode": {
    "name": "ipython",
    "version": 3
   },
   "file_extension": ".py",
   "mimetype": "text/x-python",
   "name": "python",
   "nbconvert_exporter": "python",
   "pygments_lexer": "ipython3",
   "version": "3.10.6"
  }
 },
 "nbformat": 4,
 "nbformat_minor": 5
}
